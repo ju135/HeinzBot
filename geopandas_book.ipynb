{
 "cells": [
  {
   "cell_type": "code",
   "execution_count": 8,
   "metadata": {},
   "outputs": [
    {
     "data": {
      "text/plain": "  title count       date  place  region_id      region\n0  2017   100 2016-12-31      0          6  Steiermark\n1  2018   100 2017-12-31      0          6  Steiermark\n2  2019    98 2018-12-31      1          6  Steiermark",
      "text/html": "<div>\n<style scoped>\n    .dataframe tbody tr th:only-of-type {\n        vertical-align: middle;\n    }\n\n    .dataframe tbody tr th {\n        vertical-align: top;\n    }\n\n    .dataframe thead th {\n        text-align: right;\n    }\n</style>\n<table border=\"1\" class=\"dataframe\">\n  <thead>\n    <tr style=\"text-align: right;\">\n      <th></th>\n      <th>title</th>\n      <th>count</th>\n      <th>date</th>\n      <th>place</th>\n      <th>region_id</th>\n      <th>region</th>\n    </tr>\n  </thead>\n  <tbody>\n    <tr>\n      <th>0</th>\n      <td>2017</td>\n      <td>100</td>\n      <td>2016-12-31</td>\n      <td>0</td>\n      <td>6</td>\n      <td>Steiermark</td>\n    </tr>\n    <tr>\n      <th>1</th>\n      <td>2018</td>\n      <td>100</td>\n      <td>2017-12-31</td>\n      <td>0</td>\n      <td>6</td>\n      <td>Steiermark</td>\n    </tr>\n    <tr>\n      <th>2</th>\n      <td>2019</td>\n      <td>98</td>\n      <td>2018-12-31</td>\n      <td>1</td>\n      <td>6</td>\n      <td>Steiermark</td>\n    </tr>\n  </tbody>\n</table>\n</div>"
     },
     "execution_count": 8,
     "metadata": {},
     "output_type": "execute_result"
    }
   ],
   "source": [
    "import geopandas as gps\n",
    "import pandas as pd\n",
    "\n",
    "google_data = pd.concat([pd.DataFrame(i, index=[0])\n",
    "           for i in\n",
    "           pd.read_json(\"geodata/dailies.json\")['searches']],\n",
    "          ignore_index=True)\n",
    "\n",
    "regions = pd.DataFrame({\"region\": [\"Burgenland\",\n",
    "                                   \"Kärnten\",\n",
    "                                   \"Niederösterreich\",\n",
    "                                   \"Oberösterreich\",\n",
    "                                   \"Salzburg\",\n",
    "                                   \"Steiermark\",\n",
    "                                   \"Tirol\",\n",
    "                                   \"Vorarlberg\",\n",
    "                                   \"Wien\",\n",
    "                                   ],\n",
    "                        \"region_id\": [1,\n",
    "                                      2,\n",
    "                                      3,\n",
    "                                      4,\n",
    "                                      5,\n",
    "                                      6,\n",
    "                                      7,\n",
    "                                      8,\n",
    "                                      9\n",
    "                                   ]})\n",
    "\n",
    "\n",
    "google_data.date = pd.to_datetime(google_data.date,format=\"%Y-%m-%d\")\n",
    "google_data = google_data.merge(regions,left_on=\"region_id\",right_on=\"region_id\")\n",
    "\n",
    "google_data.head(3)"
   ]
  },
  {
   "cell_type": "code",
   "execution_count": 9,
   "metadata": {},
   "outputs": [
    {
     "data": {
      "text/plain": "   ST_KZ        FL  MERIDIAN    GKZ  BKZ  FA_NR  BL_KZ  KG_NR           KG  \\\n0      1  25559609        31  20804  208   57.0    2.0  76222      Trögern   \n1      1  22226607        31  20804  208   57.0    2.0  76218   Remschenig   \n2      1  38553914        31  20804  208   57.0    2.0  76203  Bad Vellach   \n\n                    PG           PB          FA GB_KZ           GB VA_NR  \\\n0  Eisenkappel-Vellach  Völkermarkt  Klagenfurt   762  Eisenkappel    76   \n1  Eisenkappel-Vellach  Völkermarkt  Klagenfurt   762  Eisenkappel    76   \n2  Eisenkappel-Vellach  Völkermarkt  Klagenfurt   762  Eisenkappel    76   \n\n            VA       BL          ST  \\\n0  Völkermarkt  Kärnten  Österreich   \n1  Völkermarkt  Kärnten  Österreich   \n2  Völkermarkt  Kärnten  Österreich   \n\n                                            geometry  \n0  POLYGON ((488292.183 285050.700, 488846.056 28...  \n1  POLYGON ((497147.603 287018.028, 497719.621 28...  \n2  POLYGON ((496371.181 287773.327, 496480.337 28...  ",
      "text/html": "<div>\n<style scoped>\n    .dataframe tbody tr th:only-of-type {\n        vertical-align: middle;\n    }\n\n    .dataframe tbody tr th {\n        vertical-align: top;\n    }\n\n    .dataframe thead th {\n        text-align: right;\n    }\n</style>\n<table border=\"1\" class=\"dataframe\">\n  <thead>\n    <tr style=\"text-align: right;\">\n      <th></th>\n      <th>ST_KZ</th>\n      <th>FL</th>\n      <th>MERIDIAN</th>\n      <th>GKZ</th>\n      <th>BKZ</th>\n      <th>FA_NR</th>\n      <th>BL_KZ</th>\n      <th>KG_NR</th>\n      <th>KG</th>\n      <th>PG</th>\n      <th>PB</th>\n      <th>FA</th>\n      <th>GB_KZ</th>\n      <th>GB</th>\n      <th>VA_NR</th>\n      <th>VA</th>\n      <th>BL</th>\n      <th>ST</th>\n      <th>geometry</th>\n    </tr>\n  </thead>\n  <tbody>\n    <tr>\n      <th>0</th>\n      <td>1</td>\n      <td>25559609</td>\n      <td>31</td>\n      <td>20804</td>\n      <td>208</td>\n      <td>57.0</td>\n      <td>2.0</td>\n      <td>76222</td>\n      <td>Trögern</td>\n      <td>Eisenkappel-Vellach</td>\n      <td>Völkermarkt</td>\n      <td>Klagenfurt</td>\n      <td>762</td>\n      <td>Eisenkappel</td>\n      <td>76</td>\n      <td>Völkermarkt</td>\n      <td>Kärnten</td>\n      <td>Österreich</td>\n      <td>POLYGON ((488292.183 285050.700, 488846.056 28...</td>\n    </tr>\n    <tr>\n      <th>1</th>\n      <td>1</td>\n      <td>22226607</td>\n      <td>31</td>\n      <td>20804</td>\n      <td>208</td>\n      <td>57.0</td>\n      <td>2.0</td>\n      <td>76218</td>\n      <td>Remschenig</td>\n      <td>Eisenkappel-Vellach</td>\n      <td>Völkermarkt</td>\n      <td>Klagenfurt</td>\n      <td>762</td>\n      <td>Eisenkappel</td>\n      <td>76</td>\n      <td>Völkermarkt</td>\n      <td>Kärnten</td>\n      <td>Österreich</td>\n      <td>POLYGON ((497147.603 287018.028, 497719.621 28...</td>\n    </tr>\n    <tr>\n      <th>2</th>\n      <td>1</td>\n      <td>38553914</td>\n      <td>31</td>\n      <td>20804</td>\n      <td>208</td>\n      <td>57.0</td>\n      <td>2.0</td>\n      <td>76203</td>\n      <td>Bad Vellach</td>\n      <td>Eisenkappel-Vellach</td>\n      <td>Völkermarkt</td>\n      <td>Klagenfurt</td>\n      <td>762</td>\n      <td>Eisenkappel</td>\n      <td>76</td>\n      <td>Völkermarkt</td>\n      <td>Kärnten</td>\n      <td>Österreich</td>\n      <td>POLYGON ((496371.181 287773.327, 496480.337 28...</td>\n    </tr>\n  </tbody>\n</table>\n</div>"
     },
     "execution_count": 9,
     "metadata": {},
     "output_type": "execute_result"
    }
   ],
   "source": [
    "gdf = gps.GeoDataFrame.from_file(\"geodata/VGD_Österreich_gen_250.shp\")\n",
    "gdf.head(3)"
   ]
  },
  {
   "cell_type": "code",
   "execution_count": 64,
   "metadata": {},
   "outputs": [
    {
     "data": {
      "text/plain": "title        22\ncount        22\ndate         22\nplace        22\nregion_id    22\nregion       22\ndtype: int64"
     },
     "execution_count": 64,
     "metadata": {},
     "output_type": "execute_result"
    }
   ],
   "source": [
    "data = google_data"
   ]
  },
  {
   "cell_type": "code",
   "execution_count": 67,
   "outputs": [
    {
     "ename": "TypeError",
     "evalue": "nlargest() missing 1 required positional argument: 'columns'",
     "output_type": "error",
     "traceback": [
      "\u001B[0;31m---------------------------------------------------------------------------\u001B[0m",
      "\u001B[0;31mTypeError\u001B[0m                                 Traceback (most recent call last)",
      "\u001B[0;32m<ipython-input-67-ab7b27ea0130>\u001B[0m in \u001B[0;36m<module>\u001B[0;34m\u001B[0m\n\u001B[0;32m----> 1\u001B[0;31m \u001B[0mgrouped\u001B[0m \u001B[0;34m=\u001B[0m \u001B[0mdata\u001B[0m\u001B[0;34m.\u001B[0m\u001B[0mgroupby\u001B[0m\u001B[0;34m(\u001B[0m\u001B[0;34m[\u001B[0m\u001B[0;34m\"region\"\u001B[0m\u001B[0;34m,\u001B[0m\u001B[0;34m\"title\"\u001B[0m\u001B[0;34m]\u001B[0m\u001B[0;34m)\u001B[0m\u001B[0;34m.\u001B[0m\u001B[0msum\u001B[0m\u001B[0;34m(\u001B[0m\u001B[0;34m)\u001B[0m\u001B[0;34m.\u001B[0m\u001B[0mnlargest\u001B[0m\u001B[0;34m(\u001B[0m\u001B[0;36m30\u001B[0m\u001B[0;34m)\u001B[0m\u001B[0;34m.\u001B[0m\u001B[0munstack\u001B[0m\u001B[0;34m(\u001B[0m\u001B[0;34m\"region\"\u001B[0m\u001B[0;34m)\u001B[0m\u001B[0;34m\u001B[0m\u001B[0;34m\u001B[0m\u001B[0m\n\u001B[0m\u001B[1;32m      2\u001B[0m \u001B[0mgrouped\u001B[0m\u001B[0;34m\u001B[0m\u001B[0;34m\u001B[0m\u001B[0m\n\u001B[1;32m      3\u001B[0m \u001B[0;31m#grouped.fillna(0).head(10).plot(kind=\"barh\",stacked=True,figsize=(10,5))\u001B[0m\u001B[0;34m\u001B[0m\u001B[0;34m\u001B[0m\u001B[0;34m\u001B[0m\u001B[0m\n\u001B[1;32m      4\u001B[0m \u001B[0;34m\u001B[0m\u001B[0m\n",
      "\u001B[0;31mTypeError\u001B[0m: nlargest() missing 1 required positional argument: 'columns'"
     ]
    }
   ],
   "source": [
    "grouped = data.groupby([\"region\",\"title\"]).sum().nlargest(30).unstack(\"region\")\n",
    "grouped\n",
    "#grouped.fillna(0).head(10).plot(kind=\"barh\",stacked=True,figsize=(10,5))"
   ],
   "metadata": {
    "collapsed": false,
    "pycharm": {
     "name": "#%%\n"
    }
   }
  },
  {
   "cell_type": "code",
   "execution_count": 47,
   "metadata": {
    "pycharm": {
     "name": "#%%\n"
    }
   },
   "outputs": [
    {
     "data": {
      "text/plain": "<AxesSubplot:>"
     },
     "execution_count": 47,
     "metadata": {},
     "output_type": "execute_result"
    },
    {
     "data": {
      "text/plain": "<Figure size 720x360 with 1 Axes>",
      "image/png": "[encoded data removed]"
     },
     "metadata": {
      "needs_background": "light"
     },
     "output_type": "display_data"
    }
   ],
   "source": [
    "data.title.value_counts().head(10).plot(kind=\"barh\",figsize=(10,5))"
   ]
  },
  {
   "cell_type": "code",
   "execution_count": null,
   "outputs": [],
   "source": [
    "\n",
    "dog = data[data.title == \"Haushund\"]\n",
    "counts = dog.region.value_counts()\n",
    "dogs = pd.DataFrame(counts)\n",
    "dogmap = gdf.merge(dogs,left_on=\"BL\",right_on=dogs.index, how=\"outer\").fillna(0)\n",
    "dogmap.plot(column=\"region\", legend=True, cmap='autumn', figsize=(10,5), missing_kwds={'color': 'lightgrey'})"
   ],
   "metadata": {
    "collapsed": false,
    "pycharm": {
     "name": "#%%\n"
    }
   }
  },
  {
   "cell_type": "code",
   "execution_count": null,
   "metadata": {
    "pycharm": {
     "name": "#%%\n"
    }
   },
   "outputs": [],
   "source": [
    "car = data[data.title == \"Audi\"]\n",
    "counts = car.region.value_counts()\n",
    "cars = pd.DataFrame(counts)\n",
    "carsmap = gdf.merge(cars,left_on=\"BL\",right_on=cars.index, how=\"outer\").fillna(0)\n",
    "carsmap.plot(column=\"region\", legend=True, cmap='autumn', figsize=(10,5), missing_kwds={'color': 'lightgrey'})"
   ]
  },
  {
   "cell_type": "code",
   "execution_count": null,
   "outputs": [],
   "source": [
    "bank = data[data.title == \"orf\"]\n",
    "counts = bank.region.value_counts()\n",
    "bank = pd.DataFrame(counts)\n",
    "bankMap = gdf.merge(bank,left_on=\"BL\",right_on=bank.index, how=\"outer\").fillna(0)\n",
    "bankMap.plot(column=\"region\", legend=True, cmap='autumn', figsize=(10,5))"
   ],
   "metadata": {
    "collapsed": false,
    "pycharm": {
     "name": "#%%\n"
    }
   }
  }
 ],
 "metadata": {
  "kernelspec": {
   "name": "pycharm-570108ff",
   "language": "python",
   "display_name": "PyCharm (HeinzBot)"
  },
  "language_info": {
   "codemirror_mode": {
    "name": "ipython",
    "version": 3
   },
   "file_extension": ".py",
   "mimetype": "text/x-python",
   "name": "python",
   "nbconvert_exporter": "python",
   "pygments_lexer": "ipython3",
   "version": "3.8.2"
  }
 },
 "nbformat": 4,
 "nbformat_minor": 1
}